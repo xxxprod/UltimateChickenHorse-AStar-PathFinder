{
 "cells": [
  {
   "cell_type": "code",
   "execution_count": 1,
   "metadata": {},
   "outputs": [],
   "source": [
    "from utils import *"
   ]
  },
  {
   "cell_type": "code",
   "execution_count": 2,
   "metadata": {},
   "outputs": [],
   "source": [
    "df = load_latest_results('CoyoteJumpTests', skip_time_steps=30)"
   ]
  },
  {
   "cell_type": "code",
   "execution_count": 3,
   "metadata": {},
   "outputs": [
    {
     "data": {
      "text/plain": [
       "array(['[Left,Sprint](030)_[](005)_[Right,Sprint](017)_[Right,Sprint](015)_[Jump,Right,Sprint](030)',\n",
       "       '[Left,Sprint](030)_[](005)_[Right,Sprint](017)_[Right,Sprint](016)_[Jump,Right,Sprint](030)',\n",
       "       '[Left,Sprint](030)_[](005)_[Right,Sprint](017)_[Right,Sprint](017)_[Jump,Right,Sprint](030)',\n",
       "       '[Left,Sprint](030)_[](005)_[Right,Sprint](017)_[Right,Sprint](018)_[Jump,Right,Sprint](030)',\n",
       "       '[Left,Sprint](030)_[](005)_[Right,Sprint](017)_[Right,Sprint](019)_[Jump,Right,Sprint](030)',\n",
       "       '[Left,Sprint](030)_[](005)_[Right,Sprint](017)_[Right,Sprint](020)_[Jump,Right,Sprint](030)',\n",
       "       '[Left,Sprint](030)_[](005)_[Right,Sprint](017)_[Right,Sprint](021)_[Jump,Right,Sprint](030)',\n",
       "       '[Left,Sprint](030)_[](005)_[Right,Sprint](017)_[Right,Sprint](022)_[Jump,Right,Sprint](030)',\n",
       "       '[Left,Sprint](030)_[](005)_[Right,Sprint](017)_[Right,Sprint](023)_[Jump,Right,Sprint](030)',\n",
       "       '[Left,Sprint](030)_[](005)_[Right,Sprint](017)_[Right,Sprint](024)_[Jump,Right,Sprint](030)',\n",
       "       '[Left,Sprint](030)_[](005)_[Right,Sprint](017)_[Right,Sprint](025)_[Jump,Right,Sprint](030)'],\n",
       "      dtype=object)"
      ]
     },
     "execution_count": 3,
     "metadata": {},
     "output_type": "execute_result"
    }
   ],
   "source": [
    "tests = df['ScenarioName'].unique()\n",
    "tests"
   ]
  },
  {
   "cell_type": "code",
   "execution_count": 4,
   "metadata": {},
   "outputs": [
    {
     "data": {
      "text/plain": [
       "array(['[Left,Sprint](030)_[](005)_[Right,Sprint](017)_[Right,Sprint](020)_[Jump,Right,Sprint](030)',\n",
       "       '[Left,Sprint](030)_[](005)_[Right,Sprint](017)_[Right,Sprint](021)_[Jump,Right,Sprint](030)',\n",
       "       '[Left,Sprint](030)_[](005)_[Right,Sprint](017)_[Right,Sprint](022)_[Jump,Right,Sprint](030)',\n",
       "       '[Left,Sprint](030)_[](005)_[Right,Sprint](017)_[Right,Sprint](023)_[Jump,Right,Sprint](030)',\n",
       "       '[Left,Sprint](030)_[](005)_[Right,Sprint](017)_[Right,Sprint](024)_[Jump,Right,Sprint](030)'],\n",
       "      dtype=object)"
      ]
     },
     "execution_count": 4,
     "metadata": {},
     "output_type": "execute_result"
    }
   ],
   "source": [
    "tests_with_jumps = df[df['Jumping']]['ScenarioName'].unique()\n",
    "tests_with_jumps\n",
    "\n",
    "tests_with_coyote_time = df[~df['OnGround'] & df[\"CanJump\"]]['ScenarioName'].unique()\n",
    "\n",
    "tests_with_jumps_and_coyote_time = np.intersect1d(tests_with_jumps, tests_with_coyote_time)\n",
    "tests_with_jumps_and_coyote_time\n"
   ]
  },
  {
   "cell_type": "code",
   "execution_count": 6,
   "metadata": {},
   "outputs": [
    {
     "name": "stdout",
     "output_type": "stream",
     "text": [
      "[Left,Sprint](030)_[](005)_[Right,Sprint](017)_[Right,Sprint](020)_[Jump,Right,Sprint](030) 41 42 1\n",
      "[Left,Sprint](030)_[](005)_[Right,Sprint](017)_[Right,Sprint](021)_[Jump,Right,Sprint](030) 41 43 2\n",
      "[Left,Sprint](030)_[](005)_[Right,Sprint](017)_[Right,Sprint](022)_[Jump,Right,Sprint](030) 41 44 3\n",
      "[Left,Sprint](030)_[](005)_[Right,Sprint](017)_[Right,Sprint](023)_[Jump,Right,Sprint](030) 41 45 4\n",
      "[Left,Sprint](030)_[](005)_[Right,Sprint](017)_[Right,Sprint](024)_[Jump,Right,Sprint](030) 41 46 5\n"
     ]
    }
   ],
   "source": [
    "for scenario in tests_with_jumps_and_coyote_time:\n",
    "    df0 = df[df['ScenarioName'] == scenario]\n",
    "    lastFrameOnGround = df0[df0['OnGround']].tail(1)['TimeStep'].values[0]\n",
    "    firstJumpFrame = df0[df0['Jumping']].head(1)['TimeStep'].values[0] - 1\n",
    "    coyoteTime = firstJumpFrame - lastFrameOnGround\n",
    "    print(scenario, lastFrameOnGround, firstJumpFrame, coyoteTime)"
   ]
  }
 ],
 "metadata": {
  "kernelspec": {
   "display_name": "venv",
   "language": "python",
   "name": "python3"
  },
  "language_info": {
   "codemirror_mode": {
    "name": "ipython",
    "version": 3
   },
   "file_extension": ".py",
   "mimetype": "text/x-python",
   "name": "python",
   "nbconvert_exporter": "python",
   "pygments_lexer": "ipython3",
   "version": "3.11.3"
  },
  "orig_nbformat": 4,
  "vscode": {
   "interpreter": {
    "hash": "ab1263ae60bef5e344fb1f266cd104dfb9afa22b8573d0c8f92cf3c29e135b62"
   }
  }
 },
 "nbformat": 4,
 "nbformat_minor": 2
}
