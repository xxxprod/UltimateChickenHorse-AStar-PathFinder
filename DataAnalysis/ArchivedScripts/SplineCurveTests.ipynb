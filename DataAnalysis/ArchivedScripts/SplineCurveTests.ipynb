{
 "cells": [
  {
   "cell_type": "code",
   "execution_count": 1,
   "metadata": {},
   "outputs": [],
   "source": [
    "# from utils import *"
   ]
  },
  {
   "cell_type": "code",
   "execution_count": 2,
   "metadata": {},
   "outputs": [],
   "source": [
    "# df = load_latest_results('VerticalGroundJumpAccelerationTests', skip_time_steps=0, take_time_steps=52)\n",
    "# df['ScenarioName'].unique()"
   ]
  },
  {
   "cell_type": "code",
   "execution_count": 3,
   "metadata": {},
   "outputs": [
    {
     "ename": "NameError",
     "evalue": "name 'df' is not defined",
     "output_type": "error",
     "traceback": [
      "\u001b[1;31m---------------------------------------------------------------------------\u001b[0m",
      "\u001b[1;31mNameError\u001b[0m                                 Traceback (most recent call last)",
      "Cell \u001b[1;32mIn[3], line 5\u001b[0m\n\u001b[0;32m      1\u001b[0m \u001b[39mimport\u001b[39;00m \u001b[39mnumpy\u001b[39;00m \u001b[39mas\u001b[39;00m \u001b[39mnp\u001b[39;00m\n\u001b[0;32m      2\u001b[0m \u001b[39mfrom\u001b[39;00m \u001b[39mmatplotlib\u001b[39;00m \u001b[39mimport\u001b[39;00m pyplot \u001b[39mas\u001b[39;00m plt\n\u001b[1;32m----> 5\u001b[0m dfX \u001b[39m=\u001b[39m df[df[\u001b[39m\"\u001b[39m\u001b[39mScenarioName\u001b[39m\u001b[39m\"\u001b[39m] \u001b[39m==\u001b[39m \u001b[39m\"\u001b[39m\u001b[39m[Jump](001)_[Jump](022)_[](036)\u001b[39m\u001b[39m\"\u001b[39m]\n\u001b[0;32m      7\u001b[0m dfX \u001b[39m=\u001b[39m pd\u001b[39m.\u001b[39mconcat([dfX, dfX\u001b[39m.\u001b[39mtail(\u001b[39m1\u001b[39m)\u001b[39m.\u001b[39msample(\u001b[39m1\u001b[39m, replace\u001b[39m=\u001b[39m\u001b[39mTrue\u001b[39;00m)])\u001b[39m.\u001b[39mreset_index(drop\u001b[39m=\u001b[39m\u001b[39mTrue\u001b[39;00m)\n\u001b[0;32m      8\u001b[0m dfX[\u001b[39m\"\u001b[39m\u001b[39mTimeStep\u001b[39m\u001b[39m\"\u001b[39m] \u001b[39m=\u001b[39m dfX\u001b[39m.\u001b[39mindex\n",
      "\u001b[1;31mNameError\u001b[0m: name 'df' is not defined"
     ]
    }
   ],
   "source": [
    "dfX = df[df[\"ScenarioName\"] == \"[Jump](001)_[Jump](022)_[](036)\"]\n",
    "\n",
    "dfX = pd.concat([dfX, dfX.tail(1).sample(1, replace=True)]).reset_index(drop=True)\n",
    "dfX[\"TimeStep\"] = dfX.index\n",
    "dfX[\"PositionY\"] = dfX[\"VelocityY\"].cumsum() / 60\n",
    "\n",
    "xColumn = \"TimeStep\"\n",
    "yColumn = \"PositionY\"\n",
    "\n",
    "take_time_steps = 55\n",
    "model = np.poly1d(\n",
    "    np.polyfit(\n",
    "        dfX[xColumn].head(take_time_steps), dfX[yColumn].head(take_time_steps), 3\n",
    "    )\n",
    ")\n",
    "\n",
    "print(model)\n",
    "\n",
    "\n",
    "def getY(coef, coef1, coef2, coef3, x):\n",
    "    return coef * x**3 + coef1 * x**2 + coef2 * x + coef3\n",
    "\n",
    "\n",
    "def getYVelocity(coef, coef1, coef2, x):\n",
    "    return (3 * coef * x**2 + 2 * coef1 * x + coef2) * 60\n",
    "\n",
    "\n",
    "polyline = np.linspace(0, len(dfX), len(dfX) * 1)\n",
    "plt.scatter(dfX[xColumn], dfX[yColumn], s=10)\n",
    "plt.plot(\n",
    "    polyline,\n",
    "    [\n",
    "        getY(model.coef[0], model.coef[1], model.coef[2], model.coef[3], x)\n",
    "        for x in polyline\n",
    "    ],\n",
    ")\n",
    "# plt.plot(polyline, model(polyline))\n",
    "plt.show()\n",
    "\n",
    "plt.plot(dfX[\"TimeStep\"], dfX[\"VelocityY\"])\n",
    "plt.plot(\n",
    "    polyline,\n",
    "    [\n",
    "        getYVelocity(model.coef[0], model.coef[1], model.coef[2], x)\n",
    "        for x in polyline\n",
    "    ],\n",
    ")\n",
    "plt.show()\n",
    "\n",
    "\n",
    "print(getYVelocity(model.coef[0], model.coef[1], model.coef[2], 0))\n",
    "print(dfX.loc[2, \"VelocityY\"] / 60)"
   ]
  }
 ],
 "metadata": {
  "kernelspec": {
   "display_name": "venv",
   "language": "python",
   "name": "python3"
  },
  "language_info": {
   "codemirror_mode": {
    "name": "ipython",
    "version": 3
   },
   "file_extension": ".py",
   "mimetype": "text/x-python",
   "name": "python",
   "nbconvert_exporter": "python",
   "pygments_lexer": "ipython3",
   "version": "3.11.3"
  },
  "orig_nbformat": 4
 },
 "nbformat": 4,
 "nbformat_minor": 2
}
