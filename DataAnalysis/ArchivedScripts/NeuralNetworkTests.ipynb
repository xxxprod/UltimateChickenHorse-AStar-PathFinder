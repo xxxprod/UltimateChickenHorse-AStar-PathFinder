{
 "cells": [
  {
   "cell_type": "code",
   "execution_count": 1,
   "metadata": {},
   "outputs": [
    {
     "name": "stdout",
     "output_type": "stream",
     "text": [
      "cuda\n"
     ]
    }
   ],
   "source": [
    "from typing import Tuple\n",
    "import torch\n",
    "import torch.nn as nn\n",
    "import torch.nn.functional as F\n",
    "from torch.utils.data import Dataset, DataLoader\n",
    "from utils import *\n",
    "\n",
    "\n",
    "device = torch.device('cuda' if torch.cuda.is_available() else 'cpu')\n",
    "print(device)"
   ]
  },
  {
   "cell_type": "code",
   "execution_count": 24,
   "metadata": {},
   "outputs": [],
   "source": [
    "\n",
    "class HorizontalDataset(Dataset):\n",
    "    def __init__(self, dataFrames) -> None:\n",
    "\n",
    "        newDataFrames = []\n",
    "        for df in dataFrames:\n",
    "            df = df[['LeftPressed', 'RightPressed', 'SprintPressed', 'OnGround', 'OnWall', 'Jumping', 'VelocityX']]\n",
    "            df['VelocityX'] = df['VelocityX'] / 12.8\n",
    "            df = df.shift(1).join(df['VelocityX'], rsuffix='_next').reset_index(drop=True).drop(0, axis=0).reset_index(drop=True)\n",
    "            newDataFrames.append(df)\n",
    "\n",
    "\n",
    "        data = pd.concat(newDataFrames)\\\n",
    "            .drop_duplicates(subset=['LeftPressed', 'RightPressed', 'SprintPressed', 'OnGround', 'OnWall', 'Jumping', 'VelocityX', 'VelocityX_next'])\\\n",
    "            .drop_duplicates(subset=['VelocityX', 'VelocityX_next'])\n",
    "        \n",
    "        self.labels = torch.tensor(data['VelocityX_next'].to_numpy(), dtype=torch.float32).to(device)\n",
    "        self.features = torch.tensor(data[['LeftPressed', 'RightPressed', 'SprintPressed', 'OnGround', 'OnWall', 'Jumping', 'VelocityX']].to_numpy(dtype=float), dtype=torch.float32).to(device)\n",
    "        self.num_samples = len(data)\n",
    "\n",
    "    def __len__(self):\n",
    "        return self.num_samples\n",
    "\n",
    "    def __getitem__(self, idx: int) -> Tuple[torch.Tensor, torch.Tensor]:\n",
    "        return self.features[idx], self.labels[idx]\n",
    "    "
   ]
  },
  {
   "cell_type": "code",
   "execution_count": 12,
   "metadata": {},
   "outputs": [],
   "source": []
  },
  {
   "cell_type": "code",
   "execution_count": 32,
   "metadata": {},
   "outputs": [],
   "source": [
    "\n",
    "class Net(nn.Module):\n",
    "    def __init__(self):\n",
    "        super(Net, self).__init__()\n",
    "        self.fc1 = nn.Linear(7, 32)\n",
    "        self.fc2 = nn.Linear(32, 128)\n",
    "        self.fc3 = nn.Linear(128, 128)\n",
    "        self.fc4 = nn.Linear(128, 32)\n",
    "        self.fc5 = nn.Linear(32, 1)\n",
    "\n",
    "    def forward(self, x):\n",
    "        x = F.relu(self.fc1(x))        \n",
    "        x = F.relu(self.fc2(x))\n",
    "        x = F.relu(self.fc3(x))\n",
    "        x = F.relu(self.fc4(x))\n",
    "        x = self.fc5(x)\n",
    "        return x.squeeze(1)"
   ]
  },
  {
   "cell_type": "code",
   "execution_count": 13,
   "metadata": {},
   "outputs": [],
   "source": [
    "\n",
    "# train_size = int(0.8 * len(dataset))\n",
    "\n",
    "# train_dataset, test_dataset = torch.utils.data.random_split(dataset, [train_size, len(dataset) - train_size])\n"
   ]
  },
  {
   "cell_type": "code",
   "execution_count": 33,
   "metadata": {},
   "outputs": [
    {
     "name": "stdout",
     "output_type": "stream",
     "text": [
      "Epoch 0 loss: 0.29086655378341675\n",
      "Epoch 10 loss: 0.006928015500307083\n",
      "Epoch 20 loss: 0.0051133520901203156\n",
      "Epoch 30 loss: 0.003777785925194621\n",
      "Epoch 40 loss: 0.003065668512135744\n",
      "Epoch 50 loss: 0.003904154058545828\n",
      "Epoch 60 loss: 0.0040692961774766445\n",
      "Epoch 70 loss: 0.0022133467718958855\n",
      "Epoch 80 loss: 0.002366703934967518\n",
      "Epoch 90 loss: 0.0019597967620939016\n",
      "Epoch 100 loss: 0.0034821636509150267\n",
      "Epoch 110 loss: 0.003214807016775012\n",
      "Epoch 120 loss: 0.002648323541507125\n",
      "Epoch 130 loss: 0.0014757533790543675\n",
      "Epoch 140 loss: 0.0015569444512948394\n",
      "Epoch 150 loss: 0.0010546466801315546\n",
      "Epoch 160 loss: 0.0015300116501748562\n",
      "Epoch 170 loss: 0.002354762749746442\n",
      "Epoch 180 loss: 0.0030501193832606077\n",
      "Epoch 190 loss: 0.0012169377878308296\n",
      "Epoch 200 loss: 0.0017959732795134187\n",
      "Epoch 210 loss: 0.0028262741398066282\n",
      "Epoch 220 loss: 0.0021440954878926277\n",
      "Epoch 230 loss: 0.0019746364559978247\n",
      "Epoch 240 loss: 0.0028465588111430407\n",
      "Epoch 250 loss: 0.0010053787846118212\n",
      "Epoch 260 loss: 0.0021154386922717094\n",
      "Epoch 270 loss: 0.0008836021879687905\n",
      "Epoch 280 loss: 0.0009431926300749183\n",
      "Epoch 290 loss: 0.001090759178623557\n",
      "Epoch 300 loss: 0.00471730949357152\n",
      "Epoch 310 loss: 0.0019043425563722849\n",
      "Epoch 320 loss: 0.000746595615055412\n",
      "Epoch 330 loss: 0.0016974149039015174\n",
      "Epoch 340 loss: 0.0015780678950250149\n",
      "Epoch 350 loss: 0.0021763809490948915\n",
      "Epoch 360 loss: 0.0024061461444944143\n",
      "Epoch 370 loss: 0.0009145666263066232\n",
      "Epoch 380 loss: 0.001010901527479291\n",
      "Epoch 390 loss: 0.0025513083674013615\n",
      "Epoch 400 loss: 0.0014188591158017516\n",
      "Epoch 410 loss: 0.0007340937736444175\n",
      "Epoch 420 loss: 0.0014919162495061755\n",
      "Epoch 430 loss: 0.0013518325285986066\n",
      "Epoch 440 loss: 0.0015456904657185078\n",
      "Epoch 450 loss: 0.00037851420347578824\n",
      "Epoch 460 loss: 0.0013354993425309658\n",
      "Epoch 470 loss: 0.0010515170870348811\n",
      "Epoch 480 loss: 0.0018080411246046424\n",
      "Epoch 490 loss: 0.00047033667215146124\n",
      "Epoch 500 loss: 0.002875851932913065\n",
      "Epoch 510 loss: 0.0014155894750729203\n",
      "Epoch 520 loss: 0.0004309020296204835\n",
      "Epoch 530 loss: 0.0008752869907766581\n",
      "Epoch 540 loss: 0.0016903767827898264\n",
      "Epoch 550 loss: 0.0007047230028547347\n",
      "Epoch 560 loss: 0.0015768848825246096\n",
      "Epoch 570 loss: 0.0010079143103212118\n",
      "Epoch 580 loss: 0.0013972639571875334\n",
      "Epoch 590 loss: 0.000342099490808323\n",
      "Epoch 600 loss: 0.001114367856644094\n",
      "Epoch 610 loss: 0.001280111842788756\n",
      "Epoch 620 loss: 0.0008599404827691615\n",
      "Epoch 630 loss: 0.001052666106261313\n",
      "Epoch 640 loss: 0.0008643455803394318\n",
      "Epoch 650 loss: 0.0004295599937904626\n",
      "Epoch 660 loss: 0.0018433271907269955\n",
      "Epoch 670 loss: 0.000562837056349963\n",
      "Epoch 680 loss: 0.0005293876747600734\n",
      "Epoch 690 loss: 0.0007726779440417886\n",
      "Epoch 700 loss: 0.001021877396851778\n",
      "Epoch 710 loss: 0.0005942150019109249\n",
      "Epoch 720 loss: 0.000522881280630827\n",
      "Epoch 730 loss: 0.0010371000971645117\n",
      "Epoch 740 loss: 0.0008449170854873955\n",
      "Epoch 750 loss: 0.0004053702868986875\n",
      "Epoch 760 loss: 0.0009624551166780293\n",
      "Epoch 770 loss: 0.0003170203126501292\n",
      "Epoch 780 loss: 0.0010123178362846375\n",
      "Epoch 790 loss: 0.0008815255132503808\n",
      "Epoch 800 loss: 0.0005719905020669103\n",
      "Epoch 810 loss: 0.0026558232493698597\n",
      "Epoch 820 loss: 0.0007574185729026794\n",
      "Epoch 830 loss: 0.00038571839104406536\n",
      "Epoch 840 loss: 0.0006890075164847076\n",
      "Epoch 850 loss: 0.0006042953464202583\n",
      "Epoch 860 loss: 0.0007657600799575448\n",
      "Epoch 870 loss: 0.00110521144233644\n",
      "Epoch 880 loss: 0.0006378293037414551\n",
      "Epoch 890 loss: 0.00033566728234291077\n",
      "Epoch 900 loss: 0.0010126190027222037\n",
      "Epoch 910 loss: 0.0005229687667451799\n",
      "Epoch 920 loss: 0.0005067830206826329\n",
      "Epoch 930 loss: 0.0004901310312561691\n",
      "Epoch 940 loss: 0.0004126523854210973\n",
      "Epoch 950 loss: 0.00036196489236317575\n",
      "Epoch 960 loss: 0.0005501453415490687\n",
      "Epoch 970 loss: 0.0006878196145407856\n",
      "Epoch 980 loss: 0.0005988735938444734\n",
      "Epoch 990 loss: 0.0003777815436478704\n",
      "Finished Training\n"
     ]
    }
   ],
   "source": [
    "dataset = HorizontalDataset([\n",
    "    load_latest_results('NN_HorizontalGroundAccelerationTests', skip_time_steps=5),\n",
    "    load_latest_results('NN_HorizontalAirAccelerationTests', skip_time_steps=6)\n",
    "])\n",
    "\n",
    "train_dataloader = DataLoader(dataset, batch_size=64, shuffle=True)\n",
    "test_dataloader = DataLoader(dataset, batch_size=64, shuffle=True)\n",
    "\n",
    "net = Net().to(device)\n",
    "\n",
    "criterion = nn.MSELoss()\n",
    "optimizer = torch.optim.Adam(net.parameters(), lr=0.001)\n",
    "\n",
    "for epoch in range(1000):\n",
    "    for i, data in enumerate(train_dataloader):\n",
    "        inputs, labels = data\n",
    "        optimizer.zero_grad()\n",
    "        outputs = net(inputs.float())\n",
    "        loss = criterion(outputs, labels.float())\n",
    "        loss.backward()\n",
    "        optimizer.step()\n",
    "\n",
    "    if epoch % 10 == 0:\n",
    "        print(f'Epoch {epoch} loss: {loss.item()}')\n",
    "\n",
    "print('Finished Training')"
   ]
  },
  {
   "cell_type": "code",
   "execution_count": 34,
   "metadata": {},
   "outputs": [
    {
     "name": "stdout",
     "output_type": "stream",
     "text": [
      "Accuracy: 0.024942263279445726\n"
     ]
    }
   ],
   "source": [
    "\n",
    "correct = 0\n",
    "\n",
    "with torch.no_grad():\n",
    "    for i, data in enumerate(test_dataloader):\n",
    "        inputs, labels = data\n",
    "        outputs = net(inputs.float())\n",
    "        correct += (outputs.round() == labels).sum().item()\n",
    "\n",
    "\n",
    "print(f'Accuracy: {correct / len(dataset)}')\n"
   ]
  },
  {
   "cell_type": "code",
   "execution_count": 35,
   "metadata": {},
   "outputs": [],
   "source": [
    "def plot(df, scenario):\n",
    "    \n",
    "    df = df[df['ScenarioName'] == scenario]\n",
    "    df = df[['LeftPressed', 'RightPressed', 'SprintPressed', 'OnGround', 'OnWall', 'Jumping', 'VelocityX']]\n",
    "\n",
    "    dataset = HorizontalDataset([df])\n",
    "    dataloader = DataLoader(dataset, batch_size=1, shuffle=False)\n",
    "\n",
    "    x = []\n",
    "    y1 = []\n",
    "    y2 = []\n",
    "\n",
    "    with torch.no_grad():\n",
    "        for i, data in enumerate(dataloader):\n",
    "            inputs, labels = data\n",
    "            outputs = net(inputs.float())\n",
    "            x.append(i)\n",
    "            y1.append(outputs.cpu().numpy() * 12.8)\n",
    "            y2.append(labels.cpu().numpy() * 12.8)\n",
    "            # plt.plot(i, outputs.cpu().numpy(), label='Predicted')\n",
    "            # plt.plot(i, labels.cpu().numpy(), '-o', label='Actual')\n",
    "\n",
    "    plt.plot(x, y1, label='Predicted')\n",
    "    plt.plot(x, y2, '-', label='Actual')\n",
    "    plt.legend()\n",
    "    plt.title(scenario)"
   ]
  },
  {
   "cell_type": "code",
   "execution_count": 36,
   "metadata": {},
   "outputs": [
    {
     "name": "stdout",
     "output_type": "stream",
     "text": [
      "['recording']\n"
     ]
    },
    {
     "data": {
      "image/png": "[encoded data removed]",
      "text/plain": [
       "<Figure size 640x480 with 1 Axes>"
      ]
     },
     "metadata": {},
     "output_type": "display_data"
    }
   ],
   "source": [
    "\n",
    "df = load_latest_results('Game_Recording', skip_time_steps=5)\n",
    "print(df['ScenarioName'].unique())\n",
    "\n",
    "plot(df, 'recording')"
   ]
  },
  {
   "cell_type": "code",
   "execution_count": null,
   "metadata": {},
   "outputs": [],
   "source": [
    "vX = 0\n",
    "\n",
    "for t in range(0, 15):\n",
    "    # 'LeftPressed', 'RightPressed', 'SprintPressed', 'OnGround', 'Jumping', 'VelocityX'\n",
    "    x = torch.tensor([0, 1, 0, 1, 0, vX], dtype=torch.float32).to(device).reshape((1, 6))\n",
    "    vX_next = net(x).to('cpu').item()\n",
    "    plt.plot(t, vX_next, 'bo')\n",
    "    vX = vX_next\n",
    "\n",
    "for t in range(15, 60):\n",
    "    # 'LeftPressed', 'RightPressed', 'SprintPressed', 'OnGround', 'Jumping', 'VelocityX'\n",
    "    x = torch.tensor([1, 0, 1, 1, 0, vX], dtype=torch.float32).to(device).reshape((1, 6))\n",
    "    vX_next = net(x).to('cpu').item()\n",
    "    plt.plot(t, vX_next, 'bo')\n",
    "    vX = vX_next\n",
    "\n"
   ]
  }
 ],
 "metadata": {
  "kernelspec": {
   "display_name": "venv",
   "language": "python",
   "name": "python3"
  },
  "language_info": {
   "codemirror_mode": {
    "name": "ipython",
    "version": 3
   },
   "file_extension": ".py",
   "mimetype": "text/x-python",
   "name": "python",
   "nbconvert_exporter": "python",
   "pygments_lexer": "ipython3",
   "version": "3.11.3"
  },
  "orig_nbformat": 4
 },
 "nbformat": 4,
 "nbformat_minor": 2
}
